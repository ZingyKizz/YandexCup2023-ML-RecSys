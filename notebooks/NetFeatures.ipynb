{
 "cells": [
  {
   "cell_type": "code",
   "execution_count": 1,
   "id": "06beb349",
   "metadata": {},
   "outputs": [
    {
     "name": "stderr",
     "output_type": "stream",
     "text": [
      "Your CPU supports instructions that this binary was not compiled to use: AVX2\n",
      "For maximum performance, you can install NMSLIB from sources \n",
      "pip install --no-binary :all: nmslib\n"
     ]
    }
   ],
   "source": [
    "import pandas as pd\n",
    "import os\n",
    "import numpy as np\n",
    "from glob import glob\n",
    "import zipfile\n",
    "import tqdm\n",
    "import gc\n",
    "import nmslib\n",
    "from collections import defaultdict, Counter\n",
    "import copy\n",
    "import joblib\n",
    "import pickle"
   ]
  },
  {
   "cell_type": "code",
   "execution_count": 2,
   "id": "af90d647",
   "metadata": {},
   "outputs": [],
   "source": [
    "NUM_TAGS = 256"
   ]
  },
  {
   "cell_type": "code",
   "execution_count": 3,
   "id": "cbfb65a8",
   "metadata": {},
   "outputs": [],
   "source": [
    "def seed_everything(seed=0):\n",
    "    import random\n",
    "    import os\n",
    "    import numpy as np\n",
    "    import torch\n",
    "\n",
    "    random.seed(seed)\n",
    "    os.environ[\"PYTHONHASHSEED\"] = str(seed)\n",
    "    np.random.seed(seed)\n",
    "    torch.manual_seed(seed)\n",
    "    torch.cuda.manual_seed(seed)\n",
    "    torch.backends.cudnn.deterministic = True\n",
    "    torch.backends.cudnn.benchmark = True"
   ]
  },
  {
   "cell_type": "code",
   "execution_count": 4,
   "id": "371397d7",
   "metadata": {},
   "outputs": [],
   "source": [
    "def extract_name(f):\n",
    "    return f.name.rsplit(\"/\", 1)[-1].split(\".\")[0]\n",
    "\n",
    "\n",
    "def s3_objects(s3_client, bucket_name, keys, paths):\n",
    "    if paths is not None:\n",
    "        for path in paths:\n",
    "            yield path\n",
    "    else:\n",
    "        for key in keys:\n",
    "            s3_object = s3_client.get_object(Bucket=bucket_name, Key=key)[\"Body\"].read()\n",
    "            yield io.BytesIO(s3_object)\n",
    "            \n",
    "\n",
    "def load_tag_data(s3_client=None, bucket_name=None, keys=None, paths=None):\n",
    "    res = {}\n",
    "    for s3_object in s3_objects(s3_client, bucket_name, keys, paths):\n",
    "        with zipfile.ZipFile(s3_object) as zf:\n",
    "            for file in zf.namelist():\n",
    "                if file.endswith(\"train.csv\") or file.endswith(\"test.csv\"):\n",
    "                    with zf.open(file) as f:\n",
    "                        res[extract_name(f)] = pd.read_csv(f)\n",
    "    return res"
   ]
  },
  {
   "cell_type": "code",
   "execution_count": 5,
   "id": "38abb1d7",
   "metadata": {},
   "outputs": [],
   "source": [
    "cfg = {\n",
    "    \"data_path\": \"/Users/yaroslav.hnykov/Desktop/Study/VCS/YandexCUP2023/ML/RecSys/input_data/\",\n",
    "    \"n_splits\": 3,\n",
    "    \"seed\": 11,\n",
    "    \"version\": 6,\n",
    "    \"score_threshold\": 0.0\n",
    "}"
   ]
  },
  {
   "cell_type": "code",
   "execution_count": 6,
   "id": "9e6e2094",
   "metadata": {},
   "outputs": [],
   "source": [
    "tag_data = load_tag_data(paths=[os.path.join(cfg[\"data_path\"], \"data.zip\")])"
   ]
  },
  {
   "cell_type": "code",
   "execution_count": 7,
   "id": "99d04c2e",
   "metadata": {},
   "outputs": [],
   "source": [
    "seed_everything(cfg[\"seed\"])"
   ]
  },
  {
   "cell_type": "code",
   "execution_count": 8,
   "id": "44f81dc0",
   "metadata": {},
   "outputs": [],
   "source": [
    "def get_info(name):\n",
    "    info = name.split(\"__\")\n",
    "    cfg_version = int(info[1].split(\"=\")[1])\n",
    "    score = float(info[4].split(\"=\")[1].rsplit(\".\", 1)[0])\n",
    "    fold_idx = int(info[2].split(\"=\")[1])\n",
    "    return {\n",
    "        \"cfg_version\": cfg_version,\n",
    "        \"score\": score,\n",
    "        \"fold_idx\": fold_idx,\n",
    "    }\n",
    "\n",
    "\n",
    "def read_net_predictions(cfg_version, score_threshold=0, fold_idx=tuple(range(10000)), testing=False):\n",
    "    path = \"../predictions_test/\" if testing else \"../predictions_val/\"\n",
    "    predictions = None\n",
    "    total = 0\n",
    "    for name in os.listdir(path):\n",
    "        info = get_info(name)\n",
    "        if (\n",
    "            (info[\"cfg_version\"] == cfg_version) \n",
    "            and (info[\"score\"] > score_threshold) \n",
    "            and (info[\"fold_idx\"] in fold_idx)\n",
    "        ):\n",
    "            print(f\"Processing {path + name}\")\n",
    "            try:\n",
    "                a = pd.read_csv(path + name).sort_values(by=[\"track\"])\n",
    "            except ParserError:\n",
    "                continue\n",
    "            av = np.asarray(a[\"prediction\"].apply(eval).apply(list).tolist())\n",
    "            if predictions is None:\n",
    "                predictions = av\n",
    "            else:\n",
    "                predictions += av\n",
    "            total += 1\n",
    "    predictions_df = pd.DataFrame(\n",
    "        [\n",
    "            {\"track\": track, \"prediction\": \",\".join([str(p) for p in probs])}\n",
    "            for track, probs in zip(a[\"track\"], predictions / total)\n",
    "        ]\n",
    "    )\n",
    "    predictions_df[\"prediction\"] = predictions_df[\"prediction\"].str.split(\",\")\n",
    "    predictions_df = predictions_df.explode(\"prediction\")\n",
    "    predictions_df[\"tag\"] = list(map(str, range(NUM_TAGS))) * predictions_df[\"track\"].nunique()\n",
    "    res = predictions_df.astype({\"track\": int, \"tag\": str, \"prediction\": float})\n",
    "    return res"
   ]
  },
  {
   "cell_type": "code",
   "execution_count": 17,
   "id": "98052e24",
   "metadata": {},
   "outputs": [],
   "source": [
    "def get_net_features(tag_data, cfg):\n",
    "    print(\"Train features processing ...\")\n",
    "    train_net_features = pd.concat([\n",
    "        read_net_predictions(cfg[\"version\"], cfg[\"score_threshold\"], fold_idx=[fold_idx], testing=False)\n",
    "        for fold_idx in range(cfg[\"n_splits\"])\n",
    "    ], axis=0).reset_index(drop=True)\n",
    "    \n",
    "    print(\"Test features processing ...\")\n",
    "    test_net_features = (\n",
    "        read_net_predictions(cfg[\"version\"], cfg[\"score_threshold\"], testing=True).reset_index(drop=True)\n",
    "    )\n",
    "    return train_net_features, test_net_features"
   ]
  },
  {
   "cell_type": "code",
   "execution_count": 18,
   "id": "291a7662",
   "metadata": {},
   "outputs": [
    {
     "name": "stdout",
     "output_type": "stream",
     "text": [
      "Train features processing ...\n",
      "Processing ../predictions_val/prediction__cfg=6__fold_idx=0__epoch=11__score=0.23483.csv\n",
      "Processing ../predictions_val/prediction__cfg=6__fold_idx=0__epoch=12__score=0.23398.csv\n",
      "Processing ../predictions_val/prediction__cfg=6__fold_idx=0__epoch=9__score=0.23714.csv\n",
      "Processing ../predictions_val/prediction__cfg=6__fold_idx=0__epoch=10__score=0.23640.csv\n",
      "Processing ../predictions_val/prediction__cfg=6__fold_idx=1__epoch=11__score=0.23857.csv\n",
      "Processing ../predictions_val/prediction__cfg=6__fold_idx=1__epoch=10__score=0.23721.csv\n",
      "Processing ../predictions_val/prediction__cfg=6__fold_idx=1__epoch=9__score=0.23753.csv\n",
      "Processing ../predictions_val/prediction__cfg=6__fold_idx=1__epoch=8__score=0.23623.csv\n",
      "Processing ../predictions_val/prediction__cfg=6__fold_idx=2__epoch=11__score=0.24056.csv\n",
      "Processing ../predictions_val/prediction__cfg=6__fold_idx=2__epoch=9__score=0.24045.csv\n",
      "Processing ../predictions_val/prediction__cfg=6__fold_idx=2__epoch=10__score=0.24262.csv\n",
      "Processing ../predictions_val/prediction__cfg=6__fold_idx=2__epoch=8__score=0.23940.csv\n",
      "Processing ../predictions_val/prediction__cfg=6__fold_idx=2__epoch=12__score=0.23917.csv\n",
      "Test features processing ...\n",
      "Processing ../predictions_test/prediction__cfg=6__fold_idx=2__epoch=11__score=0.24056.csv\n",
      "Processing ../predictions_test/prediction__cfg=6__fold_idx=2__epoch=9__score=0.24045.csv\n",
      "Processing ../predictions_test/prediction__cfg=6__fold_idx=1__epoch=11__score=0.23857.csv\n",
      "Processing ../predictions_test/prediction__cfg=6__fold_idx=0__epoch=11__score=0.23483.csv\n",
      "Processing ../predictions_test/prediction__cfg=6__fold_idx=2__epoch=10__score=0.24262.csv\n",
      "Processing ../predictions_test/prediction__cfg=6__fold_idx=1__epoch=10__score=0.23721.csv\n",
      "Processing ../predictions_test/prediction__cfg=6__fold_idx=1__epoch=9__score=0.23753.csv\n",
      "Processing ../predictions_test/prediction__cfg=6__fold_idx=0__epoch=12__score=0.23398.csv\n",
      "Processing ../predictions_test/prediction__cfg=6__fold_idx=2__epoch=8__score=0.23940.csv\n",
      "Processing ../predictions_test/prediction__cfg=6__fold_idx=1__epoch=8__score=0.23623.csv\n",
      "Processing ../predictions_test/prediction__cfg=6__fold_idx=0__epoch=9__score=0.23714.csv\n",
      "Processing ../predictions_test/prediction__cfg=6__fold_idx=0__epoch=10__score=0.23640.csv\n",
      "Processing ../predictions_test/prediction__cfg=6__fold_idx=2__epoch=12__score=0.23917.csv\n"
     ]
    }
   ],
   "source": [
    "net_features_train, net_features_test = get_net_features(tag_data, cfg)"
   ]
  },
  {
   "cell_type": "code",
   "execution_count": 21,
   "id": "27d10f2c",
   "metadata": {},
   "outputs": [],
   "source": [
    "net_features_train.to_parquet(f\"../second_stage/net_features/train_net_features_cfg={cfg['version']}\", index=False)\n",
    "net_features_test.to_parquet(f\"../second_stage/net_features/test_net_features_cfg={cfg['version']}\", index=False)"
   ]
  },
  {
   "cell_type": "code",
   "execution_count": null,
   "id": "4c1cc87f",
   "metadata": {},
   "outputs": [],
   "source": []
  }
 ],
 "metadata": {
  "kernelspec": {
   "display_name": "Python 3 (ipykernel)",
   "language": "python",
   "name": "python3"
  },
  "language_info": {
   "codemirror_mode": {
    "name": "ipython",
    "version": 3
   },
   "file_extension": ".py",
   "mimetype": "text/x-python",
   "name": "python",
   "nbconvert_exporter": "python",
   "pygments_lexer": "ipython3",
   "version": "3.9.6"
  }
 },
 "nbformat": 4,
 "nbformat_minor": 5
}
